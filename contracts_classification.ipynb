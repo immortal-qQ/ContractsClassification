{
 "cells": [
  {
   "cell_type": "markdown",
   "id": "fa650d5f-7cf6-403a-832a-01e9d81d8595",
   "metadata": {},
   "source": [
    "## Сбор данных и разработка программного комплекса для классификации контрактов"
   ]
  },
  {
   "cell_type": "code",
   "execution_count": 2,
   "id": "a49860f8-6efc-4a63-b2cd-39a85ee51513",
   "metadata": {
    "tags": []
   },
   "outputs": [],
   "source": [
    "import os\n",
    "from os import listdir\n",
    "from os.path import isfile, join\n",
    "path = \"протоколы_ГосЗакупки_Inter/\"\n",
    "\n",
    "import time\n",
    "import re\n",
    "\n",
    "import numpy as np\n",
    "import pandas as pd\n",
    "import matplotlib.pyplot as plt\n",
    "\n",
    "from tqdm.notebook import trange, tqdm"
   ]
  },
  {
   "cell_type": "markdown",
   "id": "b1283db6-dee0-444a-8f8a-1436faf0df98",
   "metadata": {
    "tags": []
   },
   "source": [
    "### Подготовка набора данных"
   ]
  },
  {
   "cell_type": "markdown",
   "id": "ccad8ac3-24a9-4bb1-8450-a9620ab6c7f0",
   "metadata": {
    "tags": []
   },
   "source": [
    "#### Распознавание различных типов документов"
   ]
  },
  {
   "cell_type": "code",
   "execution_count": 9,
   "id": "baecad94-0993-4d15-9c82-ffc3980b8f84",
   "metadata": {
    "tags": []
   },
   "outputs": [],
   "source": [
    "import aspose.words as aw\n",
    "from docx2python import docx2python\n",
    "\n",
    "from PIL import Image\n",
    "Image.MAX_IMAGE_PIXELS = 933120000\n",
    "\n",
    "import easyocr\n",
    "reader = easyocr.Reader([\"ru\", \"en\"]) # this needs to run only once to load the model into memory\n",
    "\n",
    "from pdf2image import convert_from_path\n",
    "from PyPDF2 import PdfReader"
   ]
  },
  {
   "cell_type": "code",
   "execution_count": 10,
   "id": "944da465-f5b7-4a32-9d95-22d6ebb59405",
   "metadata": {
    "tags": []
   },
   "outputs": [
    {
     "data": {
      "image/png": "[encoded data removed]",
      "text/plain": [
       "<Figure size 640x480 with 1 Axes>"
      ]
     },
     "metadata": {},
     "output_type": "display_data"
    }
   ],
   "source": [
    "def get_filenames_by_type(files, file_type):\n",
    "    return [f for f in files if file_type in f]\n",
    "\n",
    "files = [f for f in listdir(path) if isfile(join(path, f))]\n",
    "\n",
    "pdf_files = get_filenames_by_type(files, 'pdf')\n",
    "doc_files = get_filenames_by_type(files, 'doc') # docx included\n",
    "jpg_files = get_filenames_by_type(files, 'jpg')\n",
    "\n",
    "approved_files = [len(pdf_files), len(doc_files), len(jpg_files)]\n",
    "# print(len(files), sum(approved_files))\n",
    "\n",
    "plt.pie(x = approved_files+[len(files)-sum(approved_files)], \n",
    "        labels = ['PDF', 'DOC/DOCX', 'JPG', 'Other'], \n",
    "        autopct = lambda x: f\"{x:.2f}%\");"
   ]
  },
  {
   "cell_type": "code",
   "execution_count": 11,
   "id": "d8919dc5-2444-4614-97a2-570838ade609",
   "metadata": {
    "tags": []
   },
   "outputs": [],
   "source": [
    "data_list = []"
   ]
  },
  {
   "cell_type": "markdown",
   "id": "4a3793fe-1b9f-4851-a5a9-36322e56c975",
   "metadata": {
    "tags": []
   },
   "source": [
    "##### PDF"
   ]
  },
  {
   "cell_type": "code",
   "execution_count": null,
   "id": "2e2a5e1f-d5c1-4069-8fbd-59c8e1f058b9",
   "metadata": {
    "tags": []
   },
   "outputs": [],
   "source": [
    "for file in tqdm(pdf_files):\n",
    "    # try OCR\n",
    "    pages = convert_from_path(path+file, 500)\n",
    "    content = ''\n",
    "    for i, page in enumerate(pages):\n",
    "        page_path = join(path, f\"{file.split('.pdf')[0]}_page#{i}.jpg\")\n",
    "        page.save(page_path)\n",
    "        image = Image.open(page_path)\n",
    "        result = reader.readtext(image)\n",
    "        \n",
    "        for i in range(len(result)):\n",
    "            content += result[i][1] + ' '\n",
    "        os.remove(page_path)\n",
    "    # else just try to read it    \n",
    "    if content == '' :\n",
    "        try: \n",
    "            reader_for_readable = PdfReader(path + file)\n",
    "        except Exception as e:\n",
    "            print(f'{e} at {file}')\n",
    "            continue\n",
    "        number_of_pages = len(reader_for_readable.pages)\n",
    "        content = ''\n",
    "        for i in range(number_of_pages):\n",
    "            page = reader_for_readable.pages[i]\n",
    "            text = page.extract_text()\n",
    "            content += text\n",
    "            \n",
    "    data_list.append(file.split('_')[:2] + [content])"
   ]
  },
  {
   "cell_type": "markdown",
   "id": "1e08eb4b-1b50-4488-ac6c-ef8842e2aeb0",
   "metadata": {
    "tags": []
   },
   "source": [
    "##### DOC/DOCX"
   ]
  },
  {
   "cell_type": "code",
   "execution_count": 5,
   "id": "d4c284db-7545-4b82-8302-8807b7134db5",
   "metadata": {
    "tags": []
   },
   "outputs": [],
   "source": [
    "# path = 'протоколы_полигон/'\n",
    "# doc_files = ['5047045359_32211667592_Протокол Пульс.doc', '7805018099_32111000521_протокол закуп у ед поставщ 82-21.docx']"
   ]
  },
  {
   "cell_type": "code",
   "execution_count": 12,
   "id": "02a01225-bf86-4421-954c-69cd34fee865",
   "metadata": {
    "tags": []
   },
   "outputs": [
    {
     "data": {
      "application/vnd.jupyter.widget-view+json": {
       "model_id": "0d94acdda6264a7fb74b712e6d393aee",
       "version_major": 2,
       "version_minor": 0
      },
      "text/plain": [
       "  0%|          | 0/861 [00:00<?, ?it/s]"
      ]
     },
     "metadata": {},
     "output_type": "display_data"
    },
    {
     "name": "stderr",
     "output_type": "stream",
     "text": [
      "D:\\!edu\\Data_Science\\ds_edu_venv\\lib\\site-packages\\docx2python\\bullets_and_numbering.py:47: UserWarning: none numbering format not implemented, substituting '--'\n",
      "  warnings.warn(\n",
      "D:\\!edu\\Data_Science\\ds_edu_venv\\lib\\site-packages\\docx2python\\bullets_and_numbering.py:47: UserWarning: russianLower numbering format not implemented, substituting '--'\n",
      "  warnings.warn(\n"
     ]
    }
   ],
   "source": [
    "for file in tqdm(doc_files):\n",
    "    if '.pdf' in file:\n",
    "        continue\n",
    "    \n",
    "    txt_path = f\"{path + file.split('.doc')[0]}.txt\"\n",
    "    if 'docx' in file:\n",
    "        # extract docx content\n",
    "        with docx2python(path + file) as docx_content:\n",
    "            content = docx_content.text\n",
    "    else:\n",
    "        # Load DOC file\n",
    "        doc = aw.Document(path + file)\n",
    "\n",
    "        # Save DOC as TXT\n",
    "        doc.save(txt_path)\n",
    "        \n",
    "        with open(txt_path, encoding=\"utf8\") as f:\n",
    "            content = f.read()\n",
    "        os.remove(txt_path)\n",
    "    content = content.replace(\"Evaluation Only. Created with Aspose.Words. Copyright 2003-2023 Aspose Pty Ltd.\", '')\n",
    "    content = content.replace(\"Created with an evaluation copy of Aspose.Words. To discover the full versions of our APIs please visit: https://products.aspose.com/words/\", '')\n",
    "    data_list.append(file.split('_')[:2] + [content])"
   ]
  },
  {
   "cell_type": "markdown",
   "id": "31165904-7a22-4c8b-934e-8fa83ced33d4",
   "metadata": {
    "tags": []
   },
   "source": [
    "##### JPG"
   ]
  },
  {
   "cell_type": "code",
   "execution_count": 28,
   "id": "c2224e76-234a-4b95-85a1-e4957fbdcf0a",
   "metadata": {
    "tags": []
   },
   "outputs": [],
   "source": [
    "for file in tqdm(jpg_files):\n",
    "    # Загрузка изображения с текстом\n",
    "    image = Image.open(path + file)\n",
    "    result = reader.readtext(image)\n",
    "    content = ''\n",
    "    for i in range(len(result)):\n",
    "        content += result[i][1] + ' '\n",
    "        \n",
    "    data_list.append(file.split('_')[:2] + [content])"
   ]
  },
  {
   "cell_type": "markdown",
   "id": "2015965d-2086-42a6-97bf-7f89b8972204",
   "metadata": {
    "tags": []
   },
   "source": [
    "##### Сохранение результатов"
   ]
  },
  {
   "cell_type": "code",
   "execution_count": 13,
   "id": "d175c2a2-833f-4122-b8a3-9f330a13ba7b",
   "metadata": {
    "tags": []
   },
   "outputs": [
    {
     "data": {
      "text/html": [
       "<div>\n",
       "<style scoped>\n",
       "    .dataframe tbody tr th:only-of-type {\n",
       "        vertical-align: middle;\n",
       "    }\n",
       "\n",
       "    .dataframe tbody tr th {\n",
       "        vertical-align: top;\n",
       "    }\n",
       "\n",
       "    .dataframe thead th {\n",
       "        text-align: right;\n",
       "    }\n",
       "</style>\n",
       "<table border=\"1\" class=\"dataframe\">\n",
       "  <thead>\n",
       "    <tr style=\"text-align: right;\">\n",
       "      <th></th>\n",
       "      <th>INN</th>\n",
       "      <th>id</th>\n",
       "      <th>Content</th>\n",
       "    </tr>\n",
       "  </thead>\n",
       "  <tbody>\n",
       "    <tr>\n",
       "      <th>0</th>\n",
       "      <td>1435028701</td>\n",
       "      <td>32211077961</td>\n",
       "      <td>﻿\\n\\n\\tПРОТОКОЛ № 01-01/ПЗ\\tЗАСЕДАНИЯ КОМИССИИ...</td>\n",
       "    </tr>\n",
       "    <tr>\n",
       "      <th>1</th>\n",
       "      <td>1600000036</td>\n",
       "      <td>32009623697</td>\n",
       "      <td>﻿\\n\\n\\n\\t\\t\\t\\t\\t\\t\\t\\t\\n\\nПротокол по закупке...</td>\n",
       "    </tr>\n",
       "    <tr>\n",
       "      <th>2</th>\n",
       "      <td>1644003838</td>\n",
       "      <td>32009178231</td>\n",
       "      <td>УТВЕРЖДАЮ\\n\\nДиректор\\n\\nООО «НижнекамскаяТЭЦ»...</td>\n",
       "    </tr>\n",
       "  </tbody>\n",
       "</table>\n",
       "</div>"
      ],
      "text/plain": [
       "          INN           id                                            Content\n",
       "0  1435028701  32211077961  ﻿\\n\\n\\tПРОТОКОЛ № 01-01/ПЗ\\tЗАСЕДАНИЯ КОМИССИИ...\n",
       "1  1600000036  32009623697  ﻿\\n\\n\\n\\t\\t\\t\\t\\t\\t\\t\\t\\n\\nПротокол по закупке...\n",
       "2  1644003838  32009178231  УТВЕРЖДАЮ\\n\\nДиректор\\n\\nООО «НижнекамскаяТЭЦ»..."
      ]
     },
     "metadata": {},
     "output_type": "display_data"
    }
   ],
   "source": [
    "data = pd.DataFrame(data_list, columns=['INN', 'id', 'Content'])\n",
    "display(data.head(3))\n",
    "data.to_csv('contracts_recognized_v0.1.csv', index=False)"
   ]
  },
  {
   "cell_type": "markdown",
   "id": "b10c30b4-1a7c-4a95-86e8-fcc9105df477",
   "metadata": {
    "tags": []
   },
   "source": [
    "#### Цены"
   ]
  },
  {
   "cell_type": "code",
   "execution_count": 20,
   "id": "b85afe60-61db-4e82-87c3-2252f0082ecf",
   "metadata": {
    "tags": []
   },
   "outputs": [],
   "source": [
    "import requests\n",
    "from bs4 import BeautifulSoup"
   ]
  },
  {
   "cell_type": "code",
   "execution_count": 16,
   "id": "5de0a455-b6fd-4b8c-bbe6-3b1f2e07a043",
   "metadata": {
    "tags": []
   },
   "outputs": [
    {
     "data": {
      "text/html": [
       "<div>\n",
       "<style scoped>\n",
       "    .dataframe tbody tr th:only-of-type {\n",
       "        vertical-align: middle;\n",
       "    }\n",
       "\n",
       "    .dataframe tbody tr th {\n",
       "        vertical-align: top;\n",
       "    }\n",
       "\n",
       "    .dataframe thead th {\n",
       "        text-align: right;\n",
       "    }\n",
       "</style>\n",
       "<table border=\"1\" class=\"dataframe\">\n",
       "  <thead>\n",
       "    <tr style=\"text-align: right;\">\n",
       "      <th></th>\n",
       "      <th>INN</th>\n",
       "      <th>id</th>\n",
       "      <th>Content</th>\n",
       "    </tr>\n",
       "  </thead>\n",
       "  <tbody>\n",
       "    <tr>\n",
       "      <th>0</th>\n",
       "      <td>1435028701</td>\n",
       "      <td>32211077961</td>\n",
       "      <td>﻿\\n\\n\\tПРОТОКОЛ № 01-01/ПЗ\\tЗАСЕДАНИЯ КОМИССИИ...</td>\n",
       "    </tr>\n",
       "    <tr>\n",
       "      <th>1</th>\n",
       "      <td>1600000036</td>\n",
       "      <td>32009623697</td>\n",
       "      <td>﻿\\n\\n\\n\\t\\t\\t\\t\\t\\t\\t\\t\\n\\nПротокол по закупке...</td>\n",
       "    </tr>\n",
       "    <tr>\n",
       "      <th>2</th>\n",
       "      <td>1644003838</td>\n",
       "      <td>32009178231</td>\n",
       "      <td>УТВЕРЖДАЮ\\n\\nДиректор\\n\\nООО «НижнекамскаяТЭЦ»...</td>\n",
       "    </tr>\n",
       "  </tbody>\n",
       "</table>\n",
       "</div>"
      ],
      "text/plain": [
       "          INN           id                                            Content\n",
       "0  1435028701  32211077961  ﻿\\n\\n\\tПРОТОКОЛ № 01-01/ПЗ\\tЗАСЕДАНИЯ КОМИССИИ...\n",
       "1  1600000036  32009623697  ﻿\\n\\n\\n\\t\\t\\t\\t\\t\\t\\t\\t\\n\\nПротокол по закупке...\n",
       "2  1644003838  32009178231  УТВЕРЖДАЮ\\n\\nДиректор\\n\\nООО «НижнекамскаяТЭЦ»..."
      ]
     },
     "execution_count": 16,
     "metadata": {},
     "output_type": "execute_result"
    }
   ],
   "source": [
    "data = pd.read_csv('contracts_recognized_v0.1.csv')\n",
    "data.head(3)"
   ]
  },
  {
   "cell_type": "code",
   "execution_count": 18,
   "id": "dc6287e4-8600-42ce-ab43-27a6bca5e3a3",
   "metadata": {
    "tags": []
   },
   "outputs": [],
   "source": [
    "# получение списка id закупок для краулинга цены по ним\n",
    "id_list = data['id'].values.tolist()"
   ]
  },
  {
   "cell_type": "code",
   "execution_count": 1,
   "id": "8193ee30-e0a6-4dc2-a68e-47ee0ed172f7",
   "metadata": {
    "tags": []
   },
   "outputs": [],
   "source": [
    "url = 'https://zakupki.kontur.ru/'\n",
    "price_list = []\n",
    "for id_ in id_list:\n",
    "    page = requests.get(url+str(id_))\n",
    "    soup = BeautifulSoup(page.text, \"lxml\")\n",
    "    try:\n",
    "        price = soup.find('div', class_='tender-named-values_value').find('span').text.strip()\n",
    "    except AttributeError:\n",
    "        price = np.nan\n",
    "    print(f'id: {id_}, status: {page.status_code}, price: {price}')\n",
    "    price_list.append(price)\n",
    "    time.sleep(1)\n",
    "data['Price'] = price_list\n",
    "data.head(3)"
   ]
  },
  {
   "cell_type": "code",
   "execution_count": null,
   "id": "2a29e91d-c744-4616-bdf2-7e4ed7a966fa",
   "metadata": {},
   "outputs": [],
   "source": [
    "data.to_csv('contracts_recognized_price_v0.1.csv', index=False)"
   ]
  },
  {
   "cell_type": "markdown",
   "id": "0c52626f-f649-44d0-8d5c-5ac86dc549dc",
   "metadata": {
    "tags": []
   },
   "source": [
    "#### Предобработка данных"
   ]
  },
  {
   "cell_type": "code",
   "execution_count": 25,
   "id": "0cf5d0bd-e71b-4032-b724-4795a096aec3",
   "metadata": {
    "tags": []
   },
   "outputs": [
    {
     "name": "stderr",
     "output_type": "stream",
     "text": [
      "[nltk_data] Downloading package punkt to C:\\Users\\immortal-\n",
      "[nltk_data]     qQ\\AppData\\Roaming\\nltk_data...\n",
      "[nltk_data]   Package punkt is already up-to-date!\n",
      "[nltk_data] Downloading package stopwords to C:\\Users\\immortal-\n",
      "[nltk_data]     qQ\\AppData\\Roaming\\nltk_data...\n",
      "[nltk_data]   Package stopwords is already up-to-date!\n"
     ]
    }
   ],
   "source": [
    "import nltk\n",
    "from nltk.tokenize import word_tokenize, sent_tokenize\n",
    "nltk.download('punkt')\n",
    "nltk.download('stopwords')\n",
    "from nltk.corpus import stopwords\n",
    "stopWords = stopwords.words('russian')\n",
    "\n",
    "import pymorphy2 # библиотека для лемматизации русских слов\n",
    "morph = pymorphy2.MorphAnalyzer()\n",
    "\n",
    "from razdel import tokenize"
   ]
  },
  {
   "cell_type": "code",
   "execution_count": 26,
   "id": "7465e5bf-0515-44aa-9009-844f0ab2f89e",
   "metadata": {},
   "outputs": [
    {
     "data": {
      "text/html": [
       "<div>\n",
       "<style scoped>\n",
       "    .dataframe tbody tr th:only-of-type {\n",
       "        vertical-align: middle;\n",
       "    }\n",
       "\n",
       "    .dataframe tbody tr th {\n",
       "        vertical-align: top;\n",
       "    }\n",
       "\n",
       "    .dataframe thead th {\n",
       "        text-align: right;\n",
       "    }\n",
       "</style>\n",
       "<table border=\"1\" class=\"dataframe\">\n",
       "  <thead>\n",
       "    <tr style=\"text-align: right;\">\n",
       "      <th></th>\n",
       "      <th>INN</th>\n",
       "      <th>id</th>\n",
       "      <th>Content</th>\n",
       "      <th>Price</th>\n",
       "    </tr>\n",
       "  </thead>\n",
       "  <tbody>\n",
       "    <tr>\n",
       "      <th>0</th>\n",
       "      <td>1650131524</td>\n",
       "      <td>32110319284</td>\n",
       "      <td>АКЦИОНЕРНОЕ ОБЩЕСТВО кМарийЭл (МАРИЙ ЭЛ ДОРСТР...</td>\n",
       "      <td>2 794 900,00 ₽</td>\n",
       "    </tr>\n",
       "    <tr>\n",
       "      <th>1</th>\n",
       "      <td>2308091759</td>\n",
       "      <td>32009803537</td>\n",
       "      <td>ПРОТОКОЛ Ngl4 Заседания Комиссии по осуществле...</td>\n",
       "      <td>588 900,00 ₽</td>\n",
       "    </tr>\n",
       "    <tr>\n",
       "      <th>2</th>\n",
       "      <td>2308119595</td>\n",
       "      <td>32211019865</td>\n",
       "      <td>Ha заседании отсутствует секретарь комиссии А....</td>\n",
       "      <td>3 900 000,00 ₽</td>\n",
       "    </tr>\n",
       "  </tbody>\n",
       "</table>\n",
       "</div>"
      ],
      "text/plain": [
       "          INN           id                                            Content  \\\n",
       "0  1650131524  32110319284  АКЦИОНЕРНОЕ ОБЩЕСТВО кМарийЭл (МАРИЙ ЭЛ ДОРСТР...   \n",
       "1  2308091759  32009803537  ПРОТОКОЛ Ngl4 Заседания Комиссии по осуществле...   \n",
       "2  2308119595  32211019865  Ha заседании отсутствует секретарь комиссии А....   \n",
       "\n",
       "            Price  \n",
       "0  2 794 900,00 ₽  \n",
       "1    588 900,00 ₽  \n",
       "2  3 900 000,00 ₽  "
      ]
     },
     "execution_count": 26,
     "metadata": {},
     "output_type": "execute_result"
    }
   ],
   "source": [
    "file = \"contracts_recognized_price_v0.1.csv\"\n",
    "data = pd.read_csv(file)\n",
    "data.head(3)"
   ]
  },
  {
   "cell_type": "markdown",
   "id": "cdc7d7f5-a352-436b-bdd4-ce06da0ac3f8",
   "metadata": {
    "tags": []
   },
   "source": [
    "##### Удаление nan-значений, возникших распознавании текстов или парсинге цены"
   ]
  },
  {
   "cell_type": "code",
   "execution_count": 27,
   "id": "ce26b3c8-efab-46df-9a35-9d69b36319e6",
   "metadata": {},
   "outputs": [
    {
     "data": {
      "text/plain": [
       "INN         0\n",
       "id          0\n",
       "Content    20\n",
       "Price      16\n",
       "dtype: int64"
      ]
     },
     "execution_count": 27,
     "metadata": {},
     "output_type": "execute_result"
    }
   ],
   "source": [
    "data.isna().sum()"
   ]
  },
  {
   "cell_type": "code",
   "execution_count": 28,
   "id": "45a83914-3970-4d9e-ade3-227893ed95f7",
   "metadata": {},
   "outputs": [
    {
     "data": {
      "text/plain": [
       "INN        0\n",
       "id         0\n",
       "Content    0\n",
       "Price      0\n",
       "dtype: int64"
      ]
     },
     "execution_count": 28,
     "metadata": {},
     "output_type": "execute_result"
    }
   ],
   "source": [
    "data.dropna(axis=0, how='any', inplace=True)\n",
    "data.reset_index(drop=True, inplace=True)\n",
    "data.isna().sum()"
   ]
  },
  {
   "cell_type": "markdown",
   "id": "29a925af-8d1e-415b-b3f0-82c2f2539570",
   "metadata": {
    "tags": []
   },
   "source": [
    "##### Предобработка текстов контрактов"
   ]
  },
  {
   "cell_type": "code",
   "execution_count": 29,
   "id": "61210dd2-c4d7-430b-b557-9dadf8347063",
   "metadata": {},
   "outputs": [],
   "source": [
    "def preprocess_text(text: str):\n",
    "    text = text.lower()\n",
    "    text = re.sub(r'([^А-Яа-я.,!?])', ' ', text)\n",
    "    tokenized_text = list(tokenize(text))\n",
    "    cleaned_text = ''\n",
    "    for word in tokenized_text:\n",
    "        # лемматизация\n",
    "        cleaned_word = morph.parse(word.text)[0].normal_form\n",
    "        # удаление стоп-слов и случайно распознавшихся одиночных символов\n",
    "        if not cleaned_word in stopWords and len(cleaned_word) > 1:\n",
    "            cleaned_text += cleaned_word + ' '\n",
    "    return cleaned_text"
   ]
  },
  {
   "cell_type": "code",
   "execution_count": 30,
   "id": "4c81d367-e11f-4aed-be97-5a10e74b9af6",
   "metadata": {},
   "outputs": [
    {
     "data": {
      "text/html": [
       "<div>\n",
       "<style scoped>\n",
       "    .dataframe tbody tr th:only-of-type {\n",
       "        vertical-align: middle;\n",
       "    }\n",
       "\n",
       "    .dataframe tbody tr th {\n",
       "        vertical-align: top;\n",
       "    }\n",
       "\n",
       "    .dataframe thead th {\n",
       "        text-align: right;\n",
       "    }\n",
       "</style>\n",
       "<table border=\"1\" class=\"dataframe\">\n",
       "  <thead>\n",
       "    <tr style=\"text-align: right;\">\n",
       "      <th></th>\n",
       "      <th>INN</th>\n",
       "      <th>id</th>\n",
       "      <th>Content</th>\n",
       "      <th>Price</th>\n",
       "    </tr>\n",
       "  </thead>\n",
       "  <tbody>\n",
       "    <tr>\n",
       "      <th>0</th>\n",
       "      <td>1650131524</td>\n",
       "      <td>32110319284</td>\n",
       "      <td>акционерный общество кмарийэла марий эл дорстр...</td>\n",
       "      <td>2 794 900,00 ₽</td>\n",
       "    </tr>\n",
       "    <tr>\n",
       "      <th>1</th>\n",
       "      <td>2308091759</td>\n",
       "      <td>32009803537</td>\n",
       "      <td>протокол заседание комиссия осуществление заку...</td>\n",
       "      <td>588 900,00 ₽</td>\n",
       "    </tr>\n",
       "    <tr>\n",
       "      <th>2</th>\n",
       "      <td>2308119595</td>\n",
       "      <td>32211019865</td>\n",
       "      <td>заседание отсутствовать секретарь комиссия раз...</td>\n",
       "      <td>3 900 000,00 ₽</td>\n",
       "    </tr>\n",
       "  </tbody>\n",
       "</table>\n",
       "</div>"
      ],
      "text/plain": [
       "          INN           id                                            Content  \\\n",
       "0  1650131524  32110319284  акционерный общество кмарийэла марий эл дорстр...   \n",
       "1  2308091759  32009803537  протокол заседание комиссия осуществление заку...   \n",
       "2  2308119595  32211019865  заседание отсутствовать секретарь комиссия раз...   \n",
       "\n",
       "            Price  \n",
       "0  2 794 900,00 ₽  \n",
       "1    588 900,00 ₽  \n",
       "2  3 900 000,00 ₽  "
      ]
     },
     "execution_count": 30,
     "metadata": {},
     "output_type": "execute_result"
    }
   ],
   "source": [
    "data.loc[:, 'Content'] = data['Content'].apply(lambda x: preprocess_text(x))\n",
    "data.head(3)"
   ]
  },
  {
   "cell_type": "markdown",
   "id": "d0a6fb5a-040a-45ce-bcd2-eaa6224d9289",
   "metadata": {
    "tags": []
   },
   "source": [
    "##### Предобработка цен контрактов"
   ]
  },
  {
   "cell_type": "code",
   "execution_count": 31,
   "id": "4fe61c96-adaa-47ca-a056-3cc12fca67d0",
   "metadata": {},
   "outputs": [
    {
     "data": {
      "application/vnd.jupyter.widget-view+json": {
       "model_id": "ce63629924384fe385bba66b02702ef5",
       "version_major": 2,
       "version_minor": 0
      },
      "text/plain": [
       "  0%|          | 0/1901 [00:00<?, ?it/s]"
      ]
     },
     "metadata": {},
     "output_type": "display_data"
    },
    {
     "data": {
      "text/html": [
       "<div>\n",
       "<style scoped>\n",
       "    .dataframe tbody tr th:only-of-type {\n",
       "        vertical-align: middle;\n",
       "    }\n",
       "\n",
       "    .dataframe tbody tr th {\n",
       "        vertical-align: top;\n",
       "    }\n",
       "\n",
       "    .dataframe thead th {\n",
       "        text-align: right;\n",
       "    }\n",
       "</style>\n",
       "<table border=\"1\" class=\"dataframe\">\n",
       "  <thead>\n",
       "    <tr style=\"text-align: right;\">\n",
       "      <th></th>\n",
       "      <th>INN</th>\n",
       "      <th>id</th>\n",
       "      <th>Content</th>\n",
       "      <th>Price</th>\n",
       "    </tr>\n",
       "  </thead>\n",
       "  <tbody>\n",
       "    <tr>\n",
       "      <th>0</th>\n",
       "      <td>1650131524</td>\n",
       "      <td>32110319284</td>\n",
       "      <td>акционерный общество кмарийэла марий эл дорстр...</td>\n",
       "      <td>2794900.0</td>\n",
       "    </tr>\n",
       "    <tr>\n",
       "      <th>1</th>\n",
       "      <td>2308091759</td>\n",
       "      <td>32009803537</td>\n",
       "      <td>протокол заседание комиссия осуществление заку...</td>\n",
       "      <td>588900.0</td>\n",
       "    </tr>\n",
       "    <tr>\n",
       "      <th>2</th>\n",
       "      <td>2308119595</td>\n",
       "      <td>32211019865</td>\n",
       "      <td>заседание отсутствовать секретарь комиссия раз...</td>\n",
       "      <td>3900000.0</td>\n",
       "    </tr>\n",
       "  </tbody>\n",
       "</table>\n",
       "</div>"
      ],
      "text/plain": [
       "          INN           id                                            Content  \\\n",
       "0  1650131524  32110319284  акционерный общество кмарийэла марий эл дорстр...   \n",
       "1  2308091759  32009803537  протокол заседание комиссия осуществление заку...   \n",
       "2  2308119595  32211019865  заседание отсутствовать секретарь комиссия раз...   \n",
       "\n",
       "       Price  \n",
       "0  2794900.0  \n",
       "1   588900.0  \n",
       "2  3900000.0  "
      ]
     },
     "execution_count": 31,
     "metadata": {},
     "output_type": "execute_result"
    }
   ],
   "source": [
    "exch_rate = 77\n",
    "prepr_price = []\n",
    "for price in tqdm(data.loc[:, 'Price']):\n",
    "    price = price.replace(' ', '')\n",
    "    price = price.replace(',', '.')\n",
    "    if price[-1] == '$':\n",
    "        prepr_price.append(exch_rate * float(price[:-1]))\n",
    "    else:\n",
    "        prepr_price.append(float(price[:-1]))\n",
    "    \n",
    "data.drop(['Price'], axis=1, inplace=True)\n",
    "data['Price'] = np.array(prepr_price)\n",
    "data.head(3)"
   ]
  },
  {
   "cell_type": "markdown",
   "id": "08daf040-9d48-45c2-9e24-92f6b5725f1b",
   "metadata": {
    "tags": []
   },
   "source": [
    "##### Удаление \"выбросов\" - договоров, текст которых слишком мал / велик"
   ]
  },
  {
   "cell_type": "code",
   "execution_count": 32,
   "id": "6c57ff8a-c316-4907-a3e1-fecbb658b396",
   "metadata": {
    "tags": []
   },
   "outputs": [
    {
     "data": {
      "text/plain": [
       "('широта широта широта ', 3)"
      ]
     },
     "execution_count": 32,
     "metadata": {},
     "output_type": "execute_result"
    }
   ],
   "source": [
    "calc_len = data['Content'].apply(lambda x: len(list(tokenize(x))))\n",
    "data['Content'][116], calc_len[116]"
   ]
  },
  {
   "cell_type": "code",
   "execution_count": 33,
   "id": "ef03cfd9-392c-4205-8d40-6b77cd9285d4",
   "metadata": {
    "tags": []
   },
   "outputs": [
    {
     "data": {
      "image/png": "[encoded data removed]",
      "text/plain": [
       "<Figure size 640x480 with 1 Axes>"
      ]
     },
     "metadata": {},
     "output_type": "display_data"
    }
   ],
   "source": [
    "plt.boxplot(calc_len);"
   ]
  },
  {
   "cell_type": "code",
   "execution_count": 34,
   "id": "ddf6939a-9cad-4e4a-b0b8-86dad794f6ef",
   "metadata": {
    "tags": []
   },
   "outputs": [
    {
     "name": "stdout",
     "output_type": "stream",
     "text": [
      "Минимально / Максимальная допустимая длина договора:\n",
      "6.00 / 430.00\n",
      "Процент отобранных для обучения значений: 79.17%\n"
     ]
    },
    {
     "data": {
      "text/html": [
       "<div>\n",
       "<style scoped>\n",
       "    .dataframe tbody tr th:only-of-type {\n",
       "        vertical-align: middle;\n",
       "    }\n",
       "\n",
       "    .dataframe tbody tr th {\n",
       "        vertical-align: top;\n",
       "    }\n",
       "\n",
       "    .dataframe thead th {\n",
       "        text-align: right;\n",
       "    }\n",
       "</style>\n",
       "<table border=\"1\" class=\"dataframe\">\n",
       "  <thead>\n",
       "    <tr style=\"text-align: right;\">\n",
       "      <th></th>\n",
       "      <th>INN</th>\n",
       "      <th>id</th>\n",
       "      <th>Content</th>\n",
       "      <th>Price</th>\n",
       "    </tr>\n",
       "  </thead>\n",
       "  <tbody>\n",
       "    <tr>\n",
       "      <th>0</th>\n",
       "      <td>1650131524</td>\n",
       "      <td>32110319284</td>\n",
       "      <td>акционерный общество кмарийэла марий эл дорстр...</td>\n",
       "      <td>2794900.0</td>\n",
       "    </tr>\n",
       "    <tr>\n",
       "      <th>1</th>\n",
       "      <td>2308091759</td>\n",
       "      <td>32009803537</td>\n",
       "      <td>протокол заседание комиссия осуществление заку...</td>\n",
       "      <td>588900.0</td>\n",
       "    </tr>\n",
       "    <tr>\n",
       "      <th>2</th>\n",
       "      <td>2308119595</td>\n",
       "      <td>32211019865</td>\n",
       "      <td>заседание отсутствовать секретарь комиссия раз...</td>\n",
       "      <td>3900000.0</td>\n",
       "    </tr>\n",
       "  </tbody>\n",
       "</table>\n",
       "</div>"
      ],
      "text/plain": [
       "          INN           id                                            Content  \\\n",
       "0  1650131524  32110319284  акционерный общество кмарийэла марий эл дорстр...   \n",
       "1  2308091759  32009803537  протокол заседание комиссия осуществление заку...   \n",
       "2  2308119595  32211019865  заседание отсутствовать секретарь комиссия раз...   \n",
       "\n",
       "       Price  \n",
       "0  2794900.0  \n",
       "1   588900.0  \n",
       "2  3900000.0  "
      ]
     },
     "execution_count": 34,
     "metadata": {},
     "output_type": "execute_result"
    }
   ],
   "source": [
    "mn = calc_len.quantile(0.01)\n",
    "mx = calc_len.quantile(0.8)\n",
    "print(f'Минимально / Максимальная допустимая длина договора:\\n{mn:.2f} / {mx:.2f}')\n",
    "mask = ((calc_len <= mx) & (calc_len >= mn))\n",
    "\n",
    "print(f'Процент отобранных для обучения значений: {mask.sum() / calc_len.shape[0] * 100:.2f}%')\n",
    "data = data[mask].copy(deep=True)\n",
    "data.reset_index(drop=True, inplace=True)\n",
    "data.head(3)"
   ]
  },
  {
   "cell_type": "code",
   "execution_count": 35,
   "id": "c1a0b74e-e4c0-45c0-afab-11b880dd4ba9",
   "metadata": {
    "tags": []
   },
   "outputs": [
    {
     "data": {
      "image/png": "[encoded data removed]",
      "text/plain": [
       "<Figure size 640x480 with 1 Axes>"
      ]
     },
     "metadata": {},
     "output_type": "display_data"
    }
   ],
   "source": [
    "calc_len = data['Content'].apply(lambda x: len(list(tokenize(x))))\n",
    "plt.boxplot(calc_len);"
   ]
  },
  {
   "cell_type": "markdown",
   "id": "84f88035-908c-45e2-8304-e32788199958",
   "metadata": {
    "tags": []
   },
   "source": [
    "##### Сохранение"
   ]
  },
  {
   "cell_type": "code",
   "execution_count": 36,
   "id": "150b9347-a4d7-4b65-8d1b-e73e67837ac6",
   "metadata": {},
   "outputs": [],
   "source": [
    "data.to_csv('contracts_recognized_price_preprocessed_v0.1.csv', index=False)"
   ]
  },
  {
   "cell_type": "markdown",
   "id": "37d942c2-d831-4df3-aeec-452b44ce1dbe",
   "metadata": {
    "tags": []
   },
   "source": [
    "#### Выделение целевой переменной"
   ]
  },
  {
   "cell_type": "code",
   "execution_count": 37,
   "id": "61cecaba-4755-42f1-a567-20154a36e697",
   "metadata": {
    "tags": []
   },
   "outputs": [
    {
     "data": {
      "text/html": [
       "<div>\n",
       "<style scoped>\n",
       "    .dataframe tbody tr th:only-of-type {\n",
       "        vertical-align: middle;\n",
       "    }\n",
       "\n",
       "    .dataframe tbody tr th {\n",
       "        vertical-align: top;\n",
       "    }\n",
       "\n",
       "    .dataframe thead th {\n",
       "        text-align: right;\n",
       "    }\n",
       "</style>\n",
       "<table border=\"1\" class=\"dataframe\">\n",
       "  <thead>\n",
       "    <tr style=\"text-align: right;\">\n",
       "      <th></th>\n",
       "      <th>INN</th>\n",
       "      <th>id</th>\n",
       "      <th>Content</th>\n",
       "      <th>Price</th>\n",
       "    </tr>\n",
       "  </thead>\n",
       "  <tbody>\n",
       "    <tr>\n",
       "      <th>0</th>\n",
       "      <td>1650131524</td>\n",
       "      <td>32110319284</td>\n",
       "      <td>акционерный общество кмарийэла марий эл дорстр...</td>\n",
       "      <td>2794900.0</td>\n",
       "    </tr>\n",
       "    <tr>\n",
       "      <th>1</th>\n",
       "      <td>2308091759</td>\n",
       "      <td>32009803537</td>\n",
       "      <td>протокол заседание комиссия осуществление заку...</td>\n",
       "      <td>588900.0</td>\n",
       "    </tr>\n",
       "    <tr>\n",
       "      <th>2</th>\n",
       "      <td>2308119595</td>\n",
       "      <td>32211019865</td>\n",
       "      <td>заседание отсутствовать секретарь комиссия раз...</td>\n",
       "      <td>3900000.0</td>\n",
       "    </tr>\n",
       "  </tbody>\n",
       "</table>\n",
       "</div>"
      ],
      "text/plain": [
       "          INN           id                                            Content  \\\n",
       "0  1650131524  32110319284  акционерный общество кмарийэла марий эл дорстр...   \n",
       "1  2308091759  32009803537  протокол заседание комиссия осуществление заку...   \n",
       "2  2308119595  32211019865  заседание отсутствовать секретарь комиссия раз...   \n",
       "\n",
       "       Price  \n",
       "0  2794900.0  \n",
       "1   588900.0  \n",
       "2  3900000.0  "
      ]
     },
     "execution_count": 37,
     "metadata": {},
     "output_type": "execute_result"
    }
   ],
   "source": [
    "file = \"contracts_recognized_price_preprocessed_v0.1.csv\"\n",
    "data = pd.read_csv(file)\n",
    "data.head(3)"
   ]
  },
  {
   "cell_type": "code",
   "execution_count": 41,
   "id": "8b411e8d-7c5b-4edd-8b1e-f9158d6aa487",
   "metadata": {
    "tags": []
   },
   "outputs": [
    {
     "data": {
      "text/html": [
       "<div>\n",
       "<style scoped>\n",
       "    .dataframe tbody tr th:only-of-type {\n",
       "        vertical-align: middle;\n",
       "    }\n",
       "\n",
       "    .dataframe tbody tr th {\n",
       "        vertical-align: top;\n",
       "    }\n",
       "\n",
       "    .dataframe thead th {\n",
       "        text-align: right;\n",
       "    }\n",
       "</style>\n",
       "<table border=\"1\" class=\"dataframe\">\n",
       "  <thead>\n",
       "    <tr style=\"text-align: right;\">\n",
       "      <th></th>\n",
       "      <th>INN</th>\n",
       "      <th>id</th>\n",
       "      <th>Content</th>\n",
       "      <th>Price</th>\n",
       "      <th>Target</th>\n",
       "    </tr>\n",
       "  </thead>\n",
       "  <tbody>\n",
       "    <tr>\n",
       "      <th>0</th>\n",
       "      <td>1650131524</td>\n",
       "      <td>32110319284</td>\n",
       "      <td>акционерный общество кмарийэла марий эл дорстр...</td>\n",
       "      <td>2794900.0</td>\n",
       "      <td>High</td>\n",
       "    </tr>\n",
       "    <tr>\n",
       "      <th>1</th>\n",
       "      <td>2308091759</td>\n",
       "      <td>32009803537</td>\n",
       "      <td>протокол заседание комиссия осуществление заку...</td>\n",
       "      <td>588900.0</td>\n",
       "      <td>Medium</td>\n",
       "    </tr>\n",
       "    <tr>\n",
       "      <th>2</th>\n",
       "      <td>2308119595</td>\n",
       "      <td>32211019865</td>\n",
       "      <td>заседание отсутствовать секретарь комиссия раз...</td>\n",
       "      <td>3900000.0</td>\n",
       "      <td>High</td>\n",
       "    </tr>\n",
       "  </tbody>\n",
       "</table>\n",
       "</div>"
      ],
      "text/plain": [
       "          INN           id                                            Content  \\\n",
       "0  1650131524  32110319284  акционерный общество кмарийэла марий эл дорстр...   \n",
       "1  2308091759  32009803537  протокол заседание комиссия осуществление заку...   \n",
       "2  2308119595  32211019865  заседание отсутствовать секретарь комиссия раз...   \n",
       "\n",
       "       Price  Target  \n",
       "0  2794900.0    High  \n",
       "1   588900.0  Medium  \n",
       "2  3900000.0    High  "
      ]
     },
     "metadata": {},
     "output_type": "display_data"
    },
    {
     "data": {
      "text/plain": [
       "['0.11', '385123.00', '1225900.00', '5000000.00', '9236295744.06']"
      ]
     },
     "execution_count": 41,
     "metadata": {},
     "output_type": "execute_result"
    }
   ],
   "source": [
    "bin_labels = ['Low', 'Medium', 'High', 'Extremly high']\n",
    "\n",
    "data['Target'], bins = pd.qcut(data['Price'], q=4, labels = bin_labels, retbins=True)\n",
    "display(data.head(3))\n",
    "['{:.2f}'.format(i) for i in bins]"
   ]
  },
  {
   "cell_type": "code",
   "execution_count": 42,
   "id": "e5113205-3fc6-4e24-8d69-32f2864efaf5",
   "metadata": {
    "tags": []
   },
   "outputs": [
    {
     "data": {
      "image/png": "[encoded data removed]",
      "text/plain": [
       "<Figure size 640x480 with 1 Axes>"
      ]
     },
     "metadata": {},
     "output_type": "display_data"
    }
   ],
   "source": [
    "plt.hist(data['Target']);"
   ]
  },
  {
   "cell_type": "code",
   "execution_count": 43,
   "id": "44cf9875-6ce1-4df9-8ff3-34cc12151846",
   "metadata": {
    "tags": []
   },
   "outputs": [],
   "source": [
    "data.to_csv('contracts_recognized_price_preprocessed_target_v0.1.csv', index=False)"
   ]
  },
  {
   "cell_type": "markdown",
   "id": "9152457d-3b65-49ba-9413-08f02b70341f",
   "metadata": {},
   "source": [
    "### Обучение моделей классификации с использованием CNN и RNN"
   ]
  },
  {
   "cell_type": "code",
   "execution_count": 52,
   "id": "2f787c0c-2ac3-4c52-b0aa-ca97b4756bb9",
   "metadata": {
    "tags": []
   },
   "outputs": [],
   "source": [
    "import torch\n",
    "from torch.utils.data import Dataset, DataLoader\n",
    "import torch.nn as nn\n",
    "import torch.optim as optim\n",
    "\n",
    "from navec import Navec\n",
    "from razdel import tokenize\n",
    "\n",
    "from sklearn.metrics import confusion_matrix, f1_score, accuracy_score\n",
    "from sklearn.model_selection import train_test_split\n",
    "import seaborn as sns "
   ]
  },
  {
   "cell_type": "code",
   "execution_count": 45,
   "id": "dd1e836d-ff22-4d35-a4a1-97986261fe9d",
   "metadata": {
    "tags": []
   },
   "outputs": [
    {
     "data": {
      "text/html": [
       "<div>\n",
       "<style scoped>\n",
       "    .dataframe tbody tr th:only-of-type {\n",
       "        vertical-align: middle;\n",
       "    }\n",
       "\n",
       "    .dataframe tbody tr th {\n",
       "        vertical-align: top;\n",
       "    }\n",
       "\n",
       "    .dataframe thead th {\n",
       "        text-align: right;\n",
       "    }\n",
       "</style>\n",
       "<table border=\"1\" class=\"dataframe\">\n",
       "  <thead>\n",
       "    <tr style=\"text-align: right;\">\n",
       "      <th></th>\n",
       "      <th>INN</th>\n",
       "      <th>id</th>\n",
       "      <th>Content</th>\n",
       "      <th>Price</th>\n",
       "      <th>Target</th>\n",
       "    </tr>\n",
       "  </thead>\n",
       "  <tbody>\n",
       "    <tr>\n",
       "      <th>0</th>\n",
       "      <td>1650131524</td>\n",
       "      <td>32110319284</td>\n",
       "      <td>акционерный общество кмарийэла марий эл дорстр...</td>\n",
       "      <td>2794900.0</td>\n",
       "      <td>High</td>\n",
       "    </tr>\n",
       "    <tr>\n",
       "      <th>1</th>\n",
       "      <td>2308091759</td>\n",
       "      <td>32009803537</td>\n",
       "      <td>протокол заседание комиссия осуществление заку...</td>\n",
       "      <td>588900.0</td>\n",
       "      <td>Medium</td>\n",
       "    </tr>\n",
       "    <tr>\n",
       "      <th>2</th>\n",
       "      <td>2308119595</td>\n",
       "      <td>32211019865</td>\n",
       "      <td>заседание отсутствовать секретарь комиссия раз...</td>\n",
       "      <td>3900000.0</td>\n",
       "      <td>High</td>\n",
       "    </tr>\n",
       "  </tbody>\n",
       "</table>\n",
       "</div>"
      ],
      "text/plain": [
       "          INN           id                                            Content  \\\n",
       "0  1650131524  32110319284  акционерный общество кмарийэла марий эл дорстр...   \n",
       "1  2308091759  32009803537  протокол заседание комиссия осуществление заку...   \n",
       "2  2308119595  32211019865  заседание отсутствовать секретарь комиссия раз...   \n",
       "\n",
       "       Price  Target  \n",
       "0  2794900.0    High  \n",
       "1   588900.0  Medium  \n",
       "2  3900000.0    High  "
      ]
     },
     "execution_count": 45,
     "metadata": {},
     "output_type": "execute_result"
    }
   ],
   "source": [
    "file = \"contracts_recognized_price_preprocessed_target_v0.1.csv\"\n",
    "data = pd.read_csv(file)\n",
    "data.head(3)"
   ]
  },
  {
   "cell_type": "markdown",
   "id": "09347f11-1d96-400f-b304-7fc2fe0f09c1",
   "metadata": {
    "tags": []
   },
   "source": [
    "#### Создание класса Vocab"
   ]
  },
  {
   "cell_type": "code",
   "execution_count": 48,
   "id": "5911e094-d517-4c71-b6c7-edd6432ae5f0",
   "metadata": {
    "tags": []
   },
   "outputs": [],
   "source": [
    "class Vocab:\n",
    "    def __init__(self, data: pd.DataFrame(), target_col: str, feature_col: str):\n",
    "        self.idx_to_token = {key: value for key, value in enumerate(data[target_col].unique().tolist())}\n",
    "        self.token_to_idx = dict(zip(self.idx_to_token.values(), self.idx_to_token.keys()))\n",
    "        self.vocab_len = data[target_col].nunique()\n",
    "        self.max_contract_length = data[feature_col].astype('str').apply(lambda x: len(list(tokenize(x)))).max()"
   ]
  },
  {
   "cell_type": "code",
   "execution_count": 49,
   "id": "97870201-ba58-44c6-b8ba-4b9313fde932",
   "metadata": {
    "tags": []
   },
   "outputs": [
    {
     "name": "stdout",
     "output_type": "stream",
     "text": [
      "Количество классов для предсказания: 4\n",
      "Максимальная длина контракта: 430\n",
      "{'High': 0, 'Medium': 1, 'Low': 2, 'Extremly high': 3}\n",
      "{0: 'High', 1: 'Medium', 2: 'Low', 3: 'Extremly high'}\n"
     ]
    }
   ],
   "source": [
    "vocabulary = Vocab(data = data, target_col='Target', feature_col = 'Content')\n",
    "print(f\"Количество классов для предсказания: {vocabulary.vocab_len}\")\n",
    "print(f\"Максимальная длина контракта: {vocabulary.max_contract_length}\")\n",
    "print(vocabulary.token_to_idx)\n",
    "print(vocabulary.idx_to_token)"
   ]
  },
  {
   "cell_type": "markdown",
   "id": "835f8486-d3bb-49f2-bd3c-e2b242f94646",
   "metadata": {
    "tags": []
   },
   "source": [
    "#### Разбиение на обучающую и тестовую выборки"
   ]
  },
  {
   "cell_type": "code",
   "execution_count": 55,
   "id": "022c3437-8b76-42a4-af5e-0ca94979d180",
   "metadata": {
    "tags": []
   },
   "outputs": [
    {
     "data": {
      "text/plain": [
       "((1204,), (301,))"
      ]
     },
     "metadata": {},
     "output_type": "display_data"
    },
    {
     "data": {
      "text/plain": [
       "((1204,), (301,))"
      ]
     },
     "metadata": {},
     "output_type": "display_data"
    },
    {
     "data": {
      "image/png": "[encoded data removed]",
      "text/plain": [
       "<Figure size 1200x500 with 2 Axes>"
      ]
     },
     "metadata": {},
     "output_type": "display_data"
    }
   ],
   "source": [
    "X = data.iloc[:, 2].values\n",
    "y = data.iloc[:, 4].astype(str).values\n",
    "X_train, X_test, y_train, y_test = train_test_split(X, y, test_size=0.2, stratify=y)\n",
    "display((X_train.shape, X_test.shape), (y_train.shape, y_test.shape))\n",
    "\n",
    "fig, ax = plt.subplots(nrows = 1, ncols = 2, figsize=(12, 5), squeeze=False)\n",
    "ax[0][0].hist(y_train)\n",
    "ax[0][0].set_title('Train labels balance')\n",
    "ax[0][1].hist(y_test)\n",
    "ax[0][1].set_title('Test labels balance');"
   ]
  },
  {
   "cell_type": "markdown",
   "id": "ff684064-70e5-4c83-95e0-7507d156d67e",
   "metadata": {
    "tags": []
   },
   "source": [
    "#### Формирование словаря на основе только обучающей выборки"
   ]
  },
  {
   "cell_type": "code",
   "execution_count": 59,
   "id": "5276f000-ddd7-4bca-9537-baba44ae2322",
   "metadata": {
    "tags": []
   },
   "outputs": [
    {
     "data": {
      "application/vnd.jupyter.widget-view+json": {
       "model_id": "dca17a86427245aab09d2e9d964ca11f",
       "version_major": 2,
       "version_minor": 0
      },
      "text/plain": [
       "  0%|          | 0/1204 [00:00<?, ?it/s]"
      ]
     },
     "metadata": {},
     "output_type": "display_data"
    },
    {
     "name": "stdout",
     "output_type": "stream",
     "text": [
      "15161\n",
      "['<PAD>' '<UNK>' 'корона' 'рвс' 'труппа']\n"
     ]
    }
   ],
   "source": [
    "dictionary = set()\n",
    "for x in tqdm(X_train):\n",
    "    dictionary.update([_.text for _ in list(tokenize(x))])\n",
    "    \n",
    "dictionary = np.array(list(dictionary)) # уникальные слова\n",
    "np.random.shuffle(dictionary)\n",
    "dictionary = np.concatenate((np.array(['<PAD>', '<UNK>']), dictionary), axis=None) # добавляем токены <PAD> и <UNK>\n",
    "print(len(dictionary), '\\n', dictionary[0:5], sep='')"
   ]
  },
  {
   "cell_type": "markdown",
   "id": "9d4d275f-eeb6-41a7-a101-07f8c42732c2",
   "metadata": {
    "tags": []
   },
   "source": [
    "#### Описание класса ContractDataset"
   ]
  },
  {
   "cell_type": "code",
   "execution_count": 60,
   "id": "33435467-15a6-4e51-98ce-847c82e8e058",
   "metadata": {
    "tags": []
   },
   "outputs": [],
   "source": [
    "class ContractDataset(Dataset):\n",
    "    def __init__(self, X, y, vocab: Vocab, dictionary):\n",
    "        self.X = X\n",
    "        self.y = y\n",
    "        self.vocab = vocab\n",
    "        self.dictionary = dictionary\n",
    "\n",
    "    def vectorize(self, contract):\n",
    "        '''Генерирует представление контракта в виде последовательности индексов токенов'''\n",
    "        sequence = []\n",
    "        for word in [_.text for _ in list(tokenize(contract))]: \n",
    "            indx = np.where(word == dictionary)[0]\n",
    "            if indx.size == 0:\n",
    "                sequence.append(1)\n",
    "            else:\n",
    "                sequence.append(indx.item())\n",
    "        for i in range(len(sequence), self.vocab.max_contract_length):\n",
    "            sequence.append(0)\n",
    "        # sequence = torch.tensor(sequence, dtype=torch.float32)\n",
    "        sequence = torch.tensor(sequence).type(torch.LongTensor)\n",
    "        return sequence\n",
    "\n",
    "    def __len__(self): # количество примеров в выборке\n",
    "        return len(self.X)\n",
    "\n",
    "    def __getitem__(self, idx): # абсолютный индекс\n",
    "        return self.vectorize(self.X[idx]), self.vocab.token_to_idx[self.y[idx]]"
   ]
  },
  {
   "cell_type": "code",
   "execution_count": 61,
   "id": "111be710-4a70-40da-8bc5-d25d1e126042",
   "metadata": {
    "tags": []
   },
   "outputs": [
    {
     "name": "stdout",
     "output_type": "stream",
     "text": [
      "1204 301\n"
     ]
    }
   ],
   "source": [
    "train_dataset = ContractDataset(X_train, y_train, vocabulary, dictionary)\n",
    "test_dataset = ContractDataset(X_test, y_test, vocabulary, dictionary)\n",
    "print(len(train_dataset), len(test_dataset))\n",
    "trainloader = DataLoader(train_dataset, batch_size=16, shuffle=True)\n",
    "testloader = DataLoader(test_dataset, batch_size=16, shuffle=True)"
   ]
  },
  {
   "cell_type": "markdown",
   "id": "481754d8-99f2-4033-a07d-43a395665515",
   "metadata": {
    "tags": []
   },
   "source": [
    "#### Загрузка предобученных эмбеддингов"
   ]
  },
  {
   "cell_type": "code",
   "execution_count": 63,
   "id": "735c7a88-e540-4331-92d2-edf57bee0934",
   "metadata": {
    "tags": []
   },
   "outputs": [
    {
     "name": "stdout",
     "output_type": "stream",
     "text": [
      "Доля встретившихся слов: 0.4239825869006002\n"
     ]
    }
   ],
   "source": [
    "def get_emb_matrix(word_embeddings, dictionary, emb_size = 300):\n",
    "    \"\"\" Creates embedding matrix from word vectors\"\"\"\n",
    "    dict_size = dictionary.shape[0]\n",
    "    W = np.zeros((dict_size, emb_size), dtype=\"float32\")\n",
    "    W[0] = np.zeros(emb_size, dtype='float32')\n",
    "    W[1] = np.random.uniform(-0.25, 0.25, emb_size) \n",
    "    i = 2\n",
    "    appl = 0\n",
    "    for word in dictionary[2:]:\n",
    "        if word in word_embeddings:\n",
    "            W[i] = word_embeddings[word]\n",
    "            appl += 1\n",
    "        else:\n",
    "            W[i] = np.random.uniform(-0.25, 0.25, emb_size)\n",
    "        i += 1   \n",
    "    print(f\"Доля встретившихся слов: {appl / dict_size}\")\n",
    "    return W\n",
    "\n",
    "path = 'navec_hudlit_v1_12B_500K_300d_100q.tar'\n",
    "navec = Navec.load(path)\n",
    "\n",
    "pretrained_weights = get_emb_matrix(navec, dictionary)"
   ]
  },
  {
   "cell_type": "markdown",
   "id": "4eb63a95-a7a1-4b08-9566-0ce2da89054e",
   "metadata": {
    "tags": []
   },
   "source": [
    "#### Архитектура модели"
   ]
  },
  {
   "cell_type": "code",
   "execution_count": 67,
   "id": "6eed05d0-61b0-4156-b985-00acff2fb611",
   "metadata": {
    "tags": []
   },
   "outputs": [],
   "source": [
    "class LSTM_navec_weights(torch.nn.Module) :\n",
    "    def __init__(self, vocab_size, embedding_dim, hidden_dim, navec_weights) :\n",
    "        super().__init__()\n",
    "        self.embeddings = nn.Embedding(vocab_size, embedding_dim, padding_idx=0)\n",
    "        self.embeddings.weight.data.copy_(torch.from_numpy(navec_weights))\n",
    "        self.embeddings.weight.requires_grad = False \n",
    "        self.emb_dropout = nn.Dropout1d(p=0.3)\n",
    "        \n",
    "        self.conv = nn.Conv1d(430, hidden_dim, 5)\n",
    "        self.relu1 = nn.ReLU()\n",
    "        \n",
    "        self.bn = nn.BatchNorm1d(hidden_dim)\n",
    "       \n",
    "        \n",
    "        self.lstm = nn.LSTM(296, hidden_dim, bidirectional=True, num_layers = 2, dropout=0.2, batch_first=True) \n",
    "        \n",
    "        self.lstm_bn = nn.BatchNorm1d(hidden_dim)\n",
    "        self.lstm_dropout = nn.Dropout(0.5)\n",
    "            \n",
    "        self.linear1 = nn.Linear(hidden_dim, 512)\n",
    "        self.relu2 = nn.ReLU()\n",
    "        \n",
    "        self.bn3 = nn.BatchNorm1d(512)\n",
    "        self.dropout3 = nn.Dropout(0.5)\n",
    "        \n",
    "        self.linear2 = nn.Linear(512, 512)\n",
    "        self.relu3 = nn.ReLU()\n",
    "        \n",
    "        self.out_bn = nn.BatchNorm1d(512)\n",
    "        self.out_dropout = nn.Dropout(0.5)\n",
    "        \n",
    "        self.linear3 = nn.Linear(512, 4)\n",
    "        \n",
    "    def forward(self, x):\n",
    "        x = self.embeddings(x) # batch x contract_len x embedding_dim\n",
    "        x = self.emb_dropout(x)\n",
    "        \n",
    "        x = self.relu1(self.conv(x)) # batch x hidden_size x 296\n",
    "        \n",
    "        x = self.bn(x)\n",
    "        \n",
    "        lstm_out, (ht, ct) = self.lstm(x)\n",
    "        x = ht[-1] # batch x hidden_size\n",
    "        \n",
    "        x = self.lstm_bn(x)\n",
    "        x = self.lstm_dropout(x)\n",
    "        \n",
    "        x = self.relu2(self.linear1(x)) # batch x 512\n",
    "        \n",
    "        x = self.bn3(x)\n",
    "        x = self.dropout3(x)\n",
    "        \n",
    "        x = self.relu3(self.linear2(x)) # batch x 512\n",
    "        x = self.out_bn(x)\n",
    "        x = self.out_dropout(x)\n",
    "        \n",
    "        x = self.linear3(x) # batch x 4\n",
    "        return x"
   ]
  },
  {
   "cell_type": "markdown",
   "id": "2fe8f37c-4be1-40aa-bdda-1546114b03a7",
   "metadata": {
    "tags": []
   },
   "source": [
    "#### Train loop"
   ]
  },
  {
   "cell_type": "code",
   "execution_count": 78,
   "id": "e301cb52-d7cc-42ff-961a-0d5190df67c2",
   "metadata": {
    "tags": []
   },
   "outputs": [],
   "source": [
    "def fit(model, loaders, criterion, optimizer, lr_scheduler=None, epochs=10, plot = True, device = 'cpu'):\n",
    "    losses = {\"train\": [], \"valid\": []}\n",
    "    accuracy = {\"train\": [], \"valid\": []}\n",
    "    \n",
    "    for epoch in trange(epochs):\n",
    "        print(f\"Epoch #{epoch}\")\n",
    "        for loader_type, dataloader in loaders.items():\n",
    "            epoch_losses = []\n",
    "            y_true, y_pred = [], []\n",
    "            for x_batch, y_batch in dataloader:\n",
    "                y_true.extend(y_batch.tolist())\n",
    "                x_batch, y_batch = x_batch.to(device), y_batch.to(device)\n",
    "                \n",
    "                # предсказания в зависимости от типа загрузчика\n",
    "                if loader_type == \"train\":\n",
    "                    model.train()\n",
    "                    optimizer.zero_grad()\n",
    "                    pred = model(x_batch)\n",
    "                else:\n",
    "                    model.eval()\n",
    "                    with torch.no_grad():\n",
    "                        pred = model(x_batch)\n",
    "                \n",
    "                pred_classes = torch.argmax(pred, 1).tolist()\n",
    "                y_pred.extend(pred_classes)\n",
    "                \n",
    "                if loader_type == 'train':\n",
    "                    loss = criterion(pred, y_batch)\n",
    "                    loss.backward()\n",
    "                    optimizer.step()\n",
    "                else:\n",
    "                    with torch.no_grad():\n",
    "                        loss = criterion(pred, y_batch)\n",
    "                epoch_losses.append(loss.item())\n",
    "                    \n",
    "            epoch_acc = accuracy_score(np.array(y_true), np.array(y_pred))\n",
    "            print(f\"Accuracy {loader_type}: {epoch_acc:.2f}\")\n",
    "            print(f\"F1-score {loader_type}: {f1_score(np.array(y_true), np.array(y_pred), average='weighted'):.2f}\")\n",
    "            accuracy[loader_type].append(epoch_acc)\n",
    "            losses[loader_type].append(np.array(epoch_losses).mean())\n",
    "        if lr_scheduler is not None:\n",
    "            lr_scheduler.step()\n",
    "    if plot:\n",
    "        fig, ax = plt.subplots(nrows = 1, ncols = 2, figsize=(12, 5), squeeze=False)\n",
    "        ax[0][0].set_title('Loss')\n",
    "        ax[0][0].plot(losses['train'], label='Train losses')\n",
    "        ax[0][0].plot(losses['valid'], label='Valid losses')\n",
    "        ax[0][0].legend()\n",
    "        \n",
    "        ax[0][1].set_title('Accuracy')\n",
    "        ax[0][1].plot(accuracy['train'], label='Train accuracy')\n",
    "        ax[0][1].plot(accuracy['valid'], label='Valid accuracy')\n",
    "        ax[0][1].legend()\n",
    "        plt.show();"
   ]
  },
  {
   "cell_type": "markdown",
   "id": "ae48eee8-7119-4a36-9503-5eb2e5533502",
   "metadata": {},
   "source": [
    "#### Обучение модели"
   ]
  },
  {
   "cell_type": "code",
   "execution_count": 66,
   "id": "9f3cfdaa-7aab-4c2c-8f25-ab691fe32ad7",
   "metadata": {
    "tags": []
   },
   "outputs": [
    {
     "name": "stdout",
     "output_type": "stream",
     "text": [
      "Current device: cuda\n"
     ]
    }
   ],
   "source": [
    "device = 'cuda' if torch.cuda.is_available() else 'cpu'\n",
    "print(f\"Current device: {device}\")"
   ]
  },
  {
   "cell_type": "code",
   "execution_count": 79,
   "id": "32d35a9a-3fc9-4dec-9b59-a7ecf8d3a39c",
   "metadata": {
    "tags": []
   },
   "outputs": [
    {
     "data": {
      "application/vnd.jupyter.widget-view+json": {
       "model_id": "b6483534cc47480e9ea8bb854d63ea6f",
       "version_major": 2,
       "version_minor": 0
      },
      "text/plain": [
       "  0%|          | 0/10 [00:00<?, ?it/s]"
      ]
     },
     "metadata": {},
     "output_type": "display_data"
    },
    {
     "name": "stdout",
     "output_type": "stream",
     "text": [
      "Epoch #0\n",
      "Accuracy train: 0.28\n",
      "F1-score train: 0.28\n",
      "Accuracy valid: 0.26\n",
      "F1-score valid: 0.22\n",
      "Epoch #1\n",
      "Accuracy train: 0.29\n",
      "F1-score train: 0.29\n",
      "Accuracy valid: 0.32\n",
      "F1-score valid: 0.27\n",
      "Epoch #2\n",
      "Accuracy train: 0.31\n",
      "F1-score train: 0.31\n",
      "Accuracy valid: 0.31\n",
      "F1-score valid: 0.28\n",
      "Epoch #3\n",
      "Accuracy train: 0.34\n",
      "F1-score train: 0.34\n",
      "Accuracy valid: 0.27\n",
      "F1-score valid: 0.23\n",
      "Epoch #4\n",
      "Accuracy train: 0.38\n",
      "F1-score train: 0.38\n",
      "Accuracy valid: 0.37\n",
      "F1-score valid: 0.37\n",
      "Epoch #5\n",
      "Accuracy train: 0.39\n",
      "F1-score train: 0.38\n",
      "Accuracy valid: 0.36\n",
      "F1-score valid: 0.36\n",
      "Epoch #6\n",
      "Accuracy train: 0.43\n",
      "F1-score train: 0.43\n",
      "Accuracy valid: 0.38\n",
      "F1-score valid: 0.38\n",
      "Epoch #7\n",
      "Accuracy train: 0.43\n",
      "F1-score train: 0.43\n",
      "Accuracy valid: 0.40\n",
      "F1-score valid: 0.40\n",
      "Epoch #8\n",
      "Accuracy train: 0.47\n",
      "F1-score train: 0.46\n",
      "Accuracy valid: 0.40\n",
      "F1-score valid: 0.40\n",
      "Epoch #9\n",
      "Accuracy train: 0.51\n",
      "F1-score train: 0.51\n",
      "Accuracy valid: 0.41\n",
      "F1-score valid: 0.41\n"
     ]
    },
    {
     "data": {
      "image/png": "[encoded data removed]",
      "text/plain": [
       "<Figure size 1200x500 with 2 Axes>"
      ]
     },
     "metadata": {},
     "output_type": "display_data"
    }
   ],
   "source": [
    "loaders = {\"train\": trainloader, \"valid\": testloader}\n",
    "model = LSTM_navec_weights(len(dictionary), 300, 64, pretrained_weights).to(device)\n",
    "\n",
    "optimizer = torch.optim.Adam(model.parameters(), lr=0.001, weight_decay=0.0001)\n",
    "lr_scheduler = torch.optim.lr_scheduler.StepLR(optimizer, step_size=3, gamma=0.5)\n",
    "\n",
    "fit(model,\n",
    "    loaders,\n",
    "    nn.CrossEntropyLoss(),\n",
    "    optimizer,\n",
    "    lr_scheduler,\n",
    "    10,\n",
    "    True,\n",
    "    device)"
   ]
  },
  {
   "cell_type": "markdown",
   "id": "7422090c-3011-423d-a800-c93de25daa00",
   "metadata": {},
   "source": [
    "### Оценка качества моделей и сравнение результатов"
   ]
  },
  {
   "cell_type": "code",
   "execution_count": 81,
   "id": "8031f39f-9309-41a0-b189-2a8f2d614664",
   "metadata": {
    "tags": []
   },
   "outputs": [],
   "source": [
    "def get_pred(dataloader, model, device):\n",
    "    y_true, y_pred = [], []\n",
    "    with torch.no_grad():\n",
    "        for x_batch, y_batch in dataloader:\n",
    "            y_true.extend(y_batch.tolist())\n",
    "            x_batch, y_batch = x_batch.to(device), y_batch.to(device)\n",
    "            pred = model(x_batch)\n",
    "            pred_classes = torch.argmax(pred, 1).tolist()\n",
    "            y_pred.extend(pred_classes)\n",
    "    return np.array(y_true), np.array(y_pred)  "
   ]
  },
  {
   "cell_type": "code",
   "execution_count": 82,
   "id": "f46d2625-7d65-435a-90c9-48aa26c794de",
   "metadata": {},
   "outputs": [
    {
     "name": "stdout",
     "output_type": "stream",
     "text": [
      "Accuracy train: 0.67\n",
      "Accuracy test: 0.41\n"
     ]
    },
    {
     "data": {
      "image/png": "[encoded data removed]",
      "text/plain": [
       "<Figure size 1200x500 with 4 Axes>"
      ]
     },
     "metadata": {},
     "output_type": "display_data"
    }
   ],
   "source": [
    "fig, ax = plt.subplots(nrows = 1, ncols = 2, figsize=(12, 5), squeeze=False)\n",
    "\n",
    "model.eval()\n",
    "\n",
    "# train\n",
    "true, predict = get_pred(trainloader, model, device)\n",
    "print(f\"Accuracy train: {accuracy_score(true, predict):.2f}\")\n",
    "# print(f\"F-score train: {f1_score(true, predict, average='weighted'):.2f}\")\n",
    "\n",
    "sns.heatmap(confusion_matrix(true, predict), annot=True, fmt='g', ax=ax[0][0]);\n",
    "ax[0][0].set_title('Train');\n",
    "\n",
    "# test\n",
    "true, predict = get_pred(testloader, model, device)\n",
    "print(f\"Accuracy test: {accuracy_score(true, predict):.2f}\")\n",
    "# print(f\"F-score test: {f1_score(true, predict, average='weighted'):.2f}\")\n",
    "\n",
    "sns.heatmap(confusion_matrix(true, predict), annot=True, fmt='g', ax=ax[0][1]);\n",
    "ax[0][1].set_title('Test');"
   ]
  }
 ],
 "metadata": {
  "kernelspec": {
   "display_name": "ds_edu_venv",
   "language": "python",
   "name": "ds_edu_venv"
  },
  "language_info": {
   "codemirror_mode": {
    "name": "ipython",
    "version": 3
   },
   "file_extension": ".py",
   "mimetype": "text/x-python",
   "name": "python",
   "nbconvert_exporter": "python",
   "pygments_lexer": "ipython3",
   "version": "3.10.10"
  }
 },
 "nbformat": 4,
 "nbformat_minor": 5
}
